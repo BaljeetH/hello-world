{
 "cells": [
  {
   "cell_type": "code",
   "execution_count": 1,
   "metadata": {
    "collapsed": false
   },
   "outputs": [],
   "source": [
    "def match_ends(words):\n",
    "    bal = 0\n",
    "    for word in words:\n",
    "        if len(word) > 1 and word[0] == word [-1]:\n",
    "            bal += 1\n",
    "    return bal"
   ]
  },
  {
   "cell_type": "code",
   "execution_count": 2,
   "metadata": {
    "collapsed": false
   },
   "outputs": [],
   "source": [
    "def front_x(words):\n",
    "    list1 = []\n",
    "    list2 = []\n",
    "    \n",
    "    for word in words:\n",
    "        if word.startswith('x'):\n",
    "            list1.append(word)\n",
    "        else:\n",
    "            list2.append(word)\n",
    "    \n",
    "    return sorted(list1) + sorted(list2)\n"
   ]
  },
  {
   "cell_type": "code",
   "execution_count": 3,
   "metadata": {
    "collapsed": true
   },
   "outputs": [],
   "source": [
    "def sort_last(tuples):\n",
    "    def last(a): return a[-1]\n",
    "          \n",
    "    return sorted(tuples, key=last)"
   ]
  },
  {
   "cell_type": "code",
   "execution_count": 5,
   "metadata": {
    "collapsed": false
   },
   "outputs": [],
   "source": [
    "def test(got, expected):\n",
    "    if got == expected:\n",
    "        prefix = 'OK'\n",
    "    else:\n",
    "        prefix = 'X'\n",
    "    \n",
    "    print ' {} got: {!r} expected: {!r}'.format(prefix, got, expected)"
   ]
  },
  {
   "cell_type": "code",
   "execution_count": 5,
   "metadata": {
    "collapsed": true
   },
   "outputs": [],
   "source": [
    "def main():\n",
    "    print 'match_ends'\n",
    "    test(match_ends(['aba', 'xyz', 'aa', 'x', 'bbb']), 3)\n",
    "    test(match_ends(['', 'x', 'xy', 'xyx', 'xx']), 2)\n",
    "    test(match_ends(['aaa', 'be', 'abc', 'hello']), 1)\n",
    "\n",
    "    print\n",
    "    print 'front_x'\n",
    "    test(front_x(['bbb', 'ccc', 'axx', 'xzz', 'xaa']),\n",
    "        ['xaa', 'xzz', 'axx', 'bbb', 'ccc'])\n",
    "    test(front_x(['ccc', 'bbb', 'aaa', 'xcc', 'xaa']),\n",
    "        ['xaa', 'xcc', 'aaa', 'bbb', 'ccc'])\n",
    "    test(front_x(['mix', 'xyz', 'apple', 'xanadu', 'aardvark']),\n",
    "        ['xanadu', 'xyz', 'aardvark', 'apple', 'mix'])\n",
    "    \n",
    "    print\n",
    "    print 'sort_last'\n",
    "    test(sort_last([(1, 3), (3, 2), (2, 1)]),\n",
    "         [(2, 1), (3, 2), (1, 3)])\n",
    "    test(sort_last([(2, 3), (1, 2), (3, 1)]),\n",
    "         [(3, 1), (1, 2), (2, 3)])\n",
    "    test(sort_last([(1, 7), (1, 3), (3, 4, 5), (2, 2)]),\n",
    "         [(2, 2), (1, 3), (3, 4, 5), (1, 7)])\n"
   ]
  },
  {
   "cell_type": "code",
   "execution_count": 1,
   "metadata": {
    "collapsed": false
   },
   "outputs": [],
   "source": [
    "def remove_adjacent(nums): \n",
    "    adjlist = []\n",
    "    for num in nums:\n",
    "        if not(num in adjlist):\n",
    "            adjlist.append(num)\n",
    "        \n",
    "    return adjlist"
   ]
  },
  {
   "cell_type": "code",
   "execution_count": 7,
   "metadata": {
    "collapsed": false
   },
   "outputs": [
    {
     "data": {
      "text/plain": [
       "1"
      ]
     },
     "execution_count": 7,
     "metadata": {},
     "output_type": "execute_result"
    }
   ],
   "source": [
    "match_ends(['ana', 'arthur', 'arnaud', 'sophie'])\n"
   ]
  },
  {
   "cell_type": "code",
   "execution_count": 8,
   "metadata": {
    "collapsed": false
   },
   "outputs": [
    {
     "data": {
      "text/plain": [
       "['xana', 'xarthur', 'arnaud', 'sophie']"
      ]
     },
     "execution_count": 8,
     "metadata": {},
     "output_type": "execute_result"
    }
   ],
   "source": [
    "front_x(['xana', 'xarthur', 'arnaud', 'sophie'])"
   ]
  },
  {
   "cell_type": "code",
   "execution_count": 2,
   "metadata": {
    "collapsed": true
   },
   "outputs": [],
   "source": [
    "def linear_merge(list1, list2):\n",
    "  \n",
    "    list3 = []\n",
    "    rem = []\n",
    "    empty = False\n",
    "    \n",
    "    while not empty:\n",
    "        if len (list1) > 0:\n",
    "            a = list1[-1]\n",
    "        else:\n",
    "            rem = list2[:]\n",
    "            empty = True\n",
    "            \n",
    "        if len (list2) > 0:\n",
    "            b = list2[-1]\n",
    "        else:\n",
    "            rem = list1[:]\n",
    "            empty = True\n",
    "            \n",
    "        if not empty:\n",
    "            if a > b:\n",
    "                list3.append (a)\n",
    "                list1.pop ()\n",
    "            else:\n",
    "                list3.append (b)\n",
    "                list2.pop ()\n",
    "                \n",
    "    rem.reverse ()\n",
    "    list3 += rem\n",
    "\n",
    "    list3.reverse ()\n",
    "    return list3"
   ]
  },
  {
   "cell_type": "code",
   "execution_count": 3,
   "metadata": {
    "collapsed": true
   },
   "outputs": [],
   "source": [
    "def main():\n",
    "    print 'remove_adjacent'\n",
    "    test(remove_adjacent([1, 2, 2, 3]), [1, 2, 3])\n",
    "    test(remove_adjacent([2, 2, 3, 3, 3]), [2, 3])\n",
    "    test(remove_adjacent([]), [])\n",
    "\n",
    "    print\n",
    "    print 'linear_merge'\n",
    "    test(linear_merge(['aa', 'xx', 'zz'], ['bb', 'cc']),\n",
    "        ['aa', 'bb', 'cc', 'xx', 'zz'])\n",
    "    test(linear_merge(['aa', 'xx'], ['bb', 'cc', 'zz']),\n",
    "        ['aa', 'bb', 'cc', 'xx', 'zz'])\n",
    "    test(linear_merge(['aa', 'aa'], ['aa', 'bb', 'bb']),\n",
    "        ['aa', 'aa', 'aa', 'bb', 'bb'])\n"
   ]
  },
  {
   "cell_type": "code",
   "execution_count": 6,
   "metadata": {
    "collapsed": false
   },
   "outputs": [
    {
     "name": "stdout",
     "output_type": "stream",
     "text": [
      "remove_adjacent\n",
      " OK got: [1, 2, 3] expected: [1, 2, 3]\n",
      " OK got: [2, 3] expected: [2, 3]\n",
      " OK got: [] expected: []\n",
      "\n",
      "linear_merge\n",
      " OK got: ['aa', 'bb', 'cc', 'xx', 'zz'] expected: ['aa', 'bb', 'cc', 'xx', 'zz']\n",
      " OK got: ['aa', 'bb', 'cc', 'xx', 'zz'] expected: ['aa', 'bb', 'cc', 'xx', 'zz']\n",
      " OK got: ['aa', 'aa', 'aa', 'bb', 'bb'] expected: ['aa', 'aa', 'aa', 'bb', 'bb']\n"
     ]
    }
   ],
   "source": [
    "main()"
   ]
  },
  {
   "cell_type": "code",
   "execution_count": null,
   "metadata": {
    "collapsed": true
   },
   "outputs": [],
   "source": []
  }
 ],
 "metadata": {
  "anaconda-cloud": {},
  "kernelspec": {
   "display_name": "Python [default]",
   "language": "python",
   "name": "python2"
  },
  "language_info": {
   "codemirror_mode": {
    "name": "ipython",
    "version": 2
   },
   "file_extension": ".py",
   "mimetype": "text/x-python",
   "name": "python",
   "nbconvert_exporter": "python",
   "pygments_lexer": "ipython2",
   "version": "2.7.12"
  }
 },
 "nbformat": 4,
 "nbformat_minor": 1
}
